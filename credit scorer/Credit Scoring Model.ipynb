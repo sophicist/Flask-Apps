{
 "cells": [
  {
   "cell_type": "markdown",
   "metadata": {},
   "source": [
    "<img src = \"https://miro.medium.com/max/854/0*bfgOZEZqaXYB2yRo.jpg\" style = \"height:300px;width:100%;\">\n",
    "<h1 style = \"float:center;\">A Credit Scoring Model</h1>\n",
    "<p> The Credit score willbe a probability attached to each new customer on their ability to pay a loan based on data from past loans. Those with low probabilities will either receive no loans or just receive very low loan until their ability to pay is analised via experience</p> \n",
    "<p> The data comes from the popular peer to peer lending website:  <a href = \"https://www.lendingclub.com/info/download-data.action\">Lending Club</p>"
   ]
  },
  {
   "cell_type": "markdown",
   "metadata": {},
   "source": [
    "<h2>Data Exploration and Cleaning</h2>\n",
    "<h3>Cleaning</h3>"
   ]
  },
  {
   "cell_type": "code",
   "execution_count": 32,
   "metadata": {},
   "outputs": [
    {
     "data": {
      "text/plain": [
       "['.git',\n",
       " '.gitignore',\n",
       " '.ipynb_checkpoints',\n",
       " '.vscode',\n",
       " '674865876_Monthly Exchange rate (period average).csv',\n",
       " 'app.py',\n",
       " 'Credit Scoring Model.ipynb',\n",
       " 'env',\n",
       " 'LoanStats3a.csv',\n",
       " 'model.pickle',\n",
       " 'model.py',\n",
       " 'model_two.pickle',\n",
       " 'Procfile',\n",
       " 'requirements.txt',\n",
       " 'templates',\n",
       " 'X1.csv',\n",
       " 'Y1.csv',\n",
       " '__pycache__']"
      ]
     },
     "execution_count": 32,
     "metadata": {},
     "output_type": "execute_result"
    }
   ],
   "source": [
    "#Import the Necessary Libraries\n",
    "import os\n",
    "os.listdir('.ipynb_checkpoints')\n",
    "import pandas as pd\n",
    "import os\n",
    "import time\n",
    "\n",
    "import warnings\n",
    "import matplotlib.pyplot as plt\n",
    "warnings.filterwarnings('ignore')\n",
    "\n",
    "#Print all rows and columns. Dont hide any\n",
    "pd.set_option('display.max_rows', None)\n",
    "pd.set_option('display.max_columns', None)\n",
    "\n",
    "import pickle\n",
    "os.listdir()"
   ]
  },
  {
   "cell_type": "code",
   "execution_count": 47,
   "metadata": {},
   "outputs": [
    {
     "name": "stdout",
     "output_type": "stream",
     "text": [
      "Wall time: 0 ns\n"
     ]
    }
   ],
   "source": [
    "# Load the dataset\n",
    "%time\n",
    "loans = pd.read_csv('LoanStats3a.csv')\n"
   ]
  },
  {
   "cell_type": "code",
   "execution_count": 48,
   "metadata": {},
   "outputs": [
    {
     "name": "stdout",
     "output_type": "stream",
     "text": [
      "(42542, 145)\n",
      "(42538, 64)\n",
      "(42538, 54)\n"
     ]
    },
    {
     "data": {
      "text/plain": [
       "Index(['loan_amnt', 'funded_amnt', 'funded_amnt_inv', 'term', 'int_rate',\n",
       "       'installment', 'grade', 'sub_grade', 'emp_title', 'emp_length',\n",
       "       'home_ownership', 'annual_inc', 'verification_status', 'issue_d',\n",
       "       'loan_status', 'pymnt_plan', 'desc', 'purpose', 'title', 'zip_code',\n",
       "       'addr_state', 'dti', 'delinq_2yrs', 'earliest_cr_line',\n",
       "       'inq_last_6mths', 'open_acc', 'pub_rec', 'revol_bal', 'revol_util',\n",
       "       'total_acc', 'initial_list_status', 'out_prncp', 'out_prncp_inv',\n",
       "       'total_pymnt', 'total_pymnt_inv', 'total_rec_prncp', 'total_rec_int',\n",
       "       'total_rec_late_fee', 'recoveries', 'collection_recovery_fee',\n",
       "       'last_pymnt_d', 'last_pymnt_amnt', 'last_credit_pull_d',\n",
       "       'collections_12_mths_ex_med', 'policy_code', 'application_type',\n",
       "       'acc_now_delinq', 'chargeoff_within_12_mths', 'delinq_amnt',\n",
       "       'pub_rec_bankruptcies', 'tax_liens', 'hardship_flag',\n",
       "       'disbursement_method', 'debt_settlement_flag'],\n",
       "      dtype='object')"
      ]
     },
     "execution_count": 48,
     "metadata": {},
     "output_type": "execute_result"
    }
   ],
   "source": [
    "#print(loans.columns)\n",
    "print(loans.shape)\n",
    "#loans.isnull().sum()\n",
    "loans = loans.dropna(axis='columns', how='all')\n",
    "loans = loans.dropna(axis=0, how='all')\n",
    "print(loans.shape)\n",
    "\n",
    "thresh = len(loans) * .6\n",
    "loans.dropna(thresh = thresh, axis = 1, inplace = True)\n",
    "# Checking for missing values in filtered data frame\n",
    "loans.apply(lambda x: sum(x.isnull()),axis=0) \n",
    "print(loans.shape)\n",
    "loans.columns"
   ]
  },
  {
   "cell_type": "code",
   "execution_count": 49,
   "metadata": {},
   "outputs": [
    {
     "data": {
      "text/plain": [
       "Cash    39786\n",
       "Name: disbursement_method, dtype: int64"
      ]
     },
     "execution_count": 49,
     "metadata": {},
     "output_type": "execute_result"
    }
   ],
   "source": [
    "#loans.isnull().sum()\n",
    "loans = loans[(loans['loan_status']=='Fully Paid') | (loans['loan_status']=='Charged Off')]\n",
    "loans['loan_status_bin'] = loans['loan_status'].map({'Charged Off': 1, 'Fully Paid': 0}) # 0 good loans 1 bad loans\n",
    "loans['disbursement_method'].value_counts()\n",
    "#loans.columns\n"
   ]
  },
  {
   "cell_type": "code",
   "execution_count": 50,
   "metadata": {},
   "outputs": [
    {
     "name": "stdout",
     "output_type": "stream",
     "text": [
      "(39786, 13)\n"
     ]
    },
    {
     "data": {
      "text/plain": [
       "loan_amnt                 0\n",
       "loan_status_bin           0\n",
       "funded_amnt               0\n",
       "term                      0\n",
       "int_rate                  0\n",
       "installment               0\n",
       "emp_length             1078\n",
       "home_ownership            0\n",
       "annual_inc                0\n",
       "verification_status       0\n",
       "loan_status               0\n",
       "purpose                   0\n",
       "issue_d                   0\n",
       "dtype: int64"
      ]
     },
     "execution_count": 50,
     "metadata": {},
     "output_type": "execute_result"
    }
   ],
   "source": [
    "# The variables used for the analysis\n",
    "loans.columns\n",
    "columns  = ['loan_amnt',      # The Amount of Loan Requested\n",
    "            'loan_status_bin',# A Binary loan status with 1 being bad loans and 0 being Good loans\n",
    "            'funded_amnt',    #The amount that was Given\n",
    "            'term',           # 3 or five year loan\n",
    "            'int_rate',       # the interest rate charged\n",
    "            'installment',    # The intallment amount paid\n",
    "            'emp_length',     #How long the person has bein under employment\n",
    "            'home_ownership', #What ownership they have for their home, rental owned or mortgage\n",
    "            'annual_inc',     # annual income\n",
    "            'verification_status',# was the income source verified\n",
    "           'loan_status',     # is the loan paid fully or defaulted\n",
    "            'purpose',        # The purpose for taking the  loan\n",
    "            'issue_d'         #date issued\n",
    "           ]\n",
    "# Check for Null values\n",
    "df = loans[columns]\n",
    "print(df.shape)\n",
    "df.isnull().sum()\n",
    "#df['emp_length'].value_counts()"
   ]
  },
  {
   "cell_type": "code",
   "execution_count": 51,
   "metadata": {},
   "outputs": [
    {
     "name": "stdout",
     "output_type": "stream",
     "text": [
      "(39786, 17)\n"
     ]
    },
    {
     "data": {
      "text/plain": [
       "(39786, 13)"
      ]
     },
     "execution_count": 51,
     "metadata": {},
     "output_type": "execute_result"
    }
   ],
   "source": [
    "# Convert the money columns to Kenyan Shillings\n",
    "\n",
    "Month = [i[:3] for i in df.issue_d]\n",
    "Year  = [int('20'+ i[-2:]) for i in df.issue_d]\n",
    "\n",
    "df.Month = pd.Series(Month)\n",
    "df.Year = pd.Series(Year)\n",
    "\n",
    "#import the exchange rates from Kenyan Central Bank and get the mean for the year.\n",
    "\n",
    "KER = pd.read_csv('674865876_Monthly Exchange rate (period average).csv')#'Kenya Monthly Exchange rate \n",
    "filter1 = (2007 <= KER.Year) \n",
    "filter2  = (KER.Year <= 2011)\n",
    "Ker = KER[filter1 & filter2].groupby('Year')\n",
    "Exchange =Ker['United States dollar'].agg('mean')\n",
    "exchange_rates = dict(Exchange)\n",
    "ex = pd.Series([exchange_rates[i] for i in df.Year])\n",
    "\n",
    "#convert the amounts to Kenyan Money Equivalent\n",
    "Dollar_columns = ['loan_amnt','funded_amnt', 'installment','annual_inc']\n",
    "for i in Dollar_columns:\n",
    "    df[i+ '_new'] = df[i] * ex\n",
    "\n",
    "print(df.shape)\n",
    "\n",
    "#drop the dollar columns\n",
    "df1 = df[df.columns.difference(Dollar_columns)]\n",
    "\n",
    "df1.shape"
   ]
  },
  {
   "cell_type": "code",
   "execution_count": 52,
   "metadata": {},
   "outputs": [
    {
     "name": "stdout",
     "output_type": "stream",
     "text": [
      "<class 'pandas.core.frame.DataFrame'>\n",
      "Int64Index: 39786 entries, 0 to 39785\n",
      "Data columns (total 13 columns):\n",
      "annual_inc_new         39786 non-null float64\n",
      "emp_length             39786 non-null object\n",
      "funded_amnt_new        39786 non-null float64\n",
      "home_ownership         39786 non-null object\n",
      "installment_new        39786 non-null float64\n",
      "int_rate               39786 non-null float64\n",
      "issue_d                39786 non-null object\n",
      "loan_amnt_new          39786 non-null float64\n",
      "loan_status            39786 non-null object\n",
      "loan_status_bin        39786 non-null int64\n",
      "purpose                39786 non-null object\n",
      "term                   39786 non-null object\n",
      "verification_status    39786 non-null object\n",
      "dtypes: float64(5), int64(1), object(7)\n",
      "memory usage: 4.2+ MB\n"
     ]
    }
   ],
   "source": [
    "#data imputation\n",
    "df = df1\n",
    "df['emp_length'] = df['emp_length'].fillna('10+ years') #which is the mode\n",
    "interest =  [float(i[:4]) for i in df.int_rate] # converts the interest rates to numerical value\n",
    "df.int_rate = interest\n",
    "df.info()"
   ]
  },
  {
   "cell_type": "code",
   "execution_count": 53,
   "metadata": {},
   "outputs": [
    {
     "name": "stdout",
     "output_type": "stream",
     "text": [
      "(39786, 2)\n",
      "(39786, 13)\n",
      "(39786, 17)\n",
      "(39786, 20)\n",
      "(39786, 34)\n",
      "<class 'pandas.core.frame.DataFrame'>\n",
      "Int64Index: 39786 entries, 0 to 39785\n",
      "Data columns (total 40 columns):\n",
      " 36 months              39786 non-null uint8\n",
      " 60 months              39786 non-null uint8\n",
      "1 year                  39786 non-null uint8\n",
      "10+ years               39786 non-null uint8\n",
      "2 years                 39786 non-null uint8\n",
      "3 years                 39786 non-null uint8\n",
      "4 years                 39786 non-null uint8\n",
      "5 years                 39786 non-null uint8\n",
      "6 years                 39786 non-null uint8\n",
      "7 years                 39786 non-null uint8\n",
      "8 years                 39786 non-null uint8\n",
      "9 years                 39786 non-null uint8\n",
      "< 1 year                39786 non-null uint8\n",
      "MORTGAGE                39786 non-null uint8\n",
      "Not Verified            39786 non-null uint8\n",
      "OTHER_Home_Ownership    39786 non-null uint8\n",
      "OTHER_Purposes          39786 non-null uint8\n",
      "OWN                     39786 non-null uint8\n",
      "RENT                    39786 non-null uint8\n",
      "Source Verified         39786 non-null uint8\n",
      "Verified                39786 non-null uint8\n",
      "annual_inc_new          39786 non-null float64\n",
      "car                     39786 non-null uint8\n",
      "credit_card             39786 non-null uint8\n",
      "debt_consolidation      39786 non-null uint8\n",
      "educational             39786 non-null uint8\n",
      "funded_amnt_new         39786 non-null float64\n",
      "home_improvement        39786 non-null uint8\n",
      "house                   39786 non-null uint8\n",
      "installment_new         39786 non-null float64\n",
      "int_rate                39786 non-null float64\n",
      "loan_amnt_new           39786 non-null float64\n",
      "loan_status_bin         39786 non-null int64\n",
      "major_purchase          39786 non-null uint8\n",
      "medical                 39786 non-null uint8\n",
      "moving                  39786 non-null uint8\n",
      "renewable_energy        39786 non-null uint8\n",
      "small_business          39786 non-null uint8\n",
      "vacation                39786 non-null uint8\n",
      "wedding                 39786 non-null uint8\n",
      "dtypes: float64(5), int64(1), uint8(34)\n",
      "memory usage: 3.4 MB\n"
     ]
    }
   ],
   "source": [
    "# create Dummies for all categorical variables\n",
    "lis = ['term','emp_length','home_ownership','verification_status','purpose']\n",
    "df[lis[2]] = ['OTHER_Home_Ownership' if (i == 'OTHER' or i == 'NONE') else i for i in df[lis[2]]] # rename 'other'\n",
    "df[lis[4]] = ['OTHER_Purposes' if (i == 'other' ) else i for i in df[lis[4]]]# rename 'other' to avoid similarities in columns\n",
    "df['emp_length'] = df['emp_length'].fillna(df['emp_length'].mode()[0])\n",
    "\n",
    "df_clean = pd.DataFrame(index = df.index)\n",
    "for i in lis:\n",
    "    H = df[i]\n",
    "    \n",
    "    H_dum = pd.get_dummies(H)\n",
    "    \n",
    "    B = pd.concat((df_clean,H_dum),1)\n",
    "    df_clean = B\n",
    "    \n",
    "    print(B.shape)\n",
    "df_cleans = pd.concat((df,B),1)\n",
    "df_cleans.isnull().sum()\n",
    "df_cleans = df_cleans[df_cleans.columns.difference(lis + ['loan_status','issue_d'])]\n",
    "df_cleans.info()"
   ]
  },
  {
   "cell_type": "markdown",
   "metadata": {},
   "source": [
    "# Data Exploration and Visualisation"
   ]
  },
  {
   "cell_type": "code",
   "execution_count": 54,
   "metadata": {},
   "outputs": [
    {
     "data": {
      "text/plain": [
       "array([[<matplotlib.axes._subplots.AxesSubplot object at 0x0000019B4366B550>,\n",
       "        <matplotlib.axes._subplots.AxesSubplot object at 0x0000019B43567710>],\n",
       "       [<matplotlib.axes._subplots.AxesSubplot object at 0x0000019B4AD4C908>,\n",
       "        <matplotlib.axes._subplots.AxesSubplot object at 0x0000019B42B75438>],\n",
       "       [<matplotlib.axes._subplots.AxesSubplot object at 0x0000019B42B6AF28>,\n",
       "        <matplotlib.axes._subplots.AxesSubplot object at 0x0000019B42B6ABA8>]],\n",
       "      dtype=object)"
      ]
     },
     "execution_count": 54,
     "metadata": {},
     "output_type": "execute_result"
    },
    {
     "data": {
      "image/png": "[encoded data removed]",
      "text/plain": [
       "<Figure size 1440x1440 with 6 Axes>"
      ]
     },
     "metadata": {},
     "output_type": "display_data"
    }
   ],
   "source": [
    "df.hist(figsize=(20,20),color = \"green\")"
   ]
  },
  {
   "cell_type": "code",
   "execution_count": 55,
   "metadata": {},
   "outputs": [
    {
     "data": {
      "text/plain": [
       "<matplotlib.axes._subplots.AxesSubplot at 0x19b4450f2b0>"
      ]
     },
     "execution_count": 55,
     "metadata": {},
     "output_type": "execute_result"
    },
    {
     "data": {
      "image/png": "[encoded data removed]",
      "text/plain": [
       "<Figure size 432x288 with 1 Axes>"
      ]
     },
     "metadata": {},
     "output_type": "display_data"
    }
   ],
   "source": [
    "\n",
    "def emp_to_num(term):\n",
    "    \"\"\"converts the employment column to numerical values ranging from 0 - 10\"\"\"\n",
    "    if pd.isna(term):\n",
    "        return None\n",
    "    elif term[2]=='+':\n",
    "        return 10\n",
    "    elif term[0]=='<':\n",
    "        return 0\n",
    "    else:\n",
    "        return int(term[0])\n",
    "\n",
    "df['emp_length_num'] = df['emp_length'].apply(emp_to_num)\n",
    "plt.title('Employment in Years')\n",
    "(df['emp_length_num'].value_counts().sort_index()/len(df)).plot.bar()\n"
   ]
  },
  {
   "cell_type": "code",
   "execution_count": 56,
   "metadata": {},
   "outputs": [
    {
     "data": {
      "text/plain": [
       "\"Intrestingly there is no obvious connection between employment length and default rate. For example employment lengths of 8 and 9 years have almost the same default rate as employment lengths of up to 1 year. But what we can see is that an employment length of 0 or 1 has a high default rate and an emloyment length of more than 10 years has a really low default rate. So we are going to transform the feature into two features called 'long_emp' and 'short_emp'.\""
      ]
     },
     "execution_count": 56,
     "metadata": {},
     "output_type": "execute_result"
    },
    {
     "data": {
      "image/png": "[encoded data removed]",
      "text/plain": [
       "<Figure size 432x288 with 1 Axes>"
      ]
     },
     "metadata": {},
     "output_type": "display_data"
    }
   ],
   "source": [
    "# is there a connection between the employment and the default rate\n",
    "df.groupby('emp_length_num')['loan_status_bin'].mean().plot.bar()\n",
    "\n",
    "'''Intrestingly there is no obvious connection between employment length and default rate. For example employment lengths of 8 and 9 years have almost the same default rate as employment lengths of up to 1 year. But what we can see is that an employment length of 0 or 1 has a high default rate and an emloyment length of more than 10 years has a really low default rate. So we are going to transform the feature into two features called 'long_emp' and 'short_emp'.'''"
   ]
  },
  {
   "cell_type": "code",
   "execution_count": 57,
   "metadata": {},
   "outputs": [
    {
     "data": {
      "text/plain": [
       "(array([ 0,  1,  2,  3,  4,  5,  6,  7,  8,  9, 10, 11, 12, 13]),\n",
       " <a list of 14 Text xticklabel objects>)"
      ]
     },
     "execution_count": 57,
     "metadata": {},
     "output_type": "execute_result"
    },
    {
     "data": {
      "image/png": "[encoded data removed]",
      "text/plain": [
       "<Figure size 432x288 with 1 Axes>"
      ]
     },
     "metadata": {},
     "output_type": "display_data"
    }
   ],
   "source": [
    "# distribution of interest rates\n",
    "#(df['int_rate'].dropna()/len(df)).plot.hist(bins=10)\n",
    "# Purpose for the loans\n",
    "\n",
    "(df['purpose'].value_counts()/len(df)).plot.bar()\n",
    "plt.xticks(rotation= 70)"
   ]
  },
  {
   "cell_type": "code",
   "execution_count": 58,
   "metadata": {},
   "outputs": [
    {
     "name": "stdout",
     "output_type": "stream",
     "text": [
      "The default rate is seen to be affected by the term of the loan \n"
     ]
    },
    {
     "data": {
      "image/png": "[encoded data removed]",
      "text/plain": [
       "<Figure size 432x288 with 1 Axes>"
      ]
     },
     "metadata": {},
     "output_type": "display_data"
    }
   ],
   "source": [
    "# The term of loans vis a vis the default rate\n",
    "(df['term'].value_counts()/len(df)).plot.bar(title='value counts') # more short term loans than long term loans\n",
    "df.groupby('term')['loan_status_bin'].mean().plot.bar(title='default rate') # higher default rate in longer loans\n",
    "print('The default rate is seen to be affected by the term of the loan ')"
   ]
  },
  {
   "cell_type": "code",
   "execution_count": 59,
   "metadata": {},
   "outputs": [
    {
     "data": {
      "text/plain": [
       "<matplotlib.axes._subplots.AxesSubplot at 0x19b427d5358>"
      ]
     },
     "execution_count": 59,
     "metadata": {},
     "output_type": "execute_result"
    },
    {
     "data": {
      "image/png": "[encoded data removed]",
      "text/plain": [
       "<Figure size 432x288 with 1 Axes>"
      ]
     },
     "metadata": {},
     "output_type": "display_data"
    }
   ],
   "source": [
    "#Those that rent their houses have a high default rate\n",
    "df[(df['home_ownership']=='MORTGAGE') | (df['home_ownership']=='OWN')| (df['home_ownership']=='RENT')].groupby('home_ownership')['loan_status_bin'].mean().plot.bar(title='default rate')"
   ]
  },
  {
   "cell_type": "markdown",
   "metadata": {},
   "source": [
    "# Train the Machine Learning Model\n",
    "### Create an X and Y  - input output dataset"
   ]
  },
  {
   "cell_type": "code",
   "execution_count": 102,
   "metadata": {},
   "outputs": [
    {
     "name": "stdout",
     "output_type": "stream",
     "text": [
      "(34116, 40) (5670, 40) (11340, 40)\n"
     ]
    }
   ],
   "source": [
    "# Balancing the data ti improve overall performance\n",
    "filter1 = df_cleans.loan_status_bin == 0\n",
    "filter2 = df_cleans.loan_status_bin == 1\n",
    "good_loans = df_cleans[filter1]\n",
    "bad_loans = df_cleans[filter2]\n",
    "slices = good_loans.iloc[:5670,:]\n",
    "new = pd.concat((bad_loans,slices),0)\n",
    "print(good_loans.shape,bad_loans.shape,new.shape)"
   ]
  },
  {
   "cell_type": "code",
   "execution_count": 113,
   "metadata": {},
   "outputs": [
    {
     "name": "stderr",
     "output_type": "stream",
     "text": [
      "[Parallel(n_jobs=1)]: Done 100 out of 100 | elapsed:    0.7s finished\n"
     ]
    },
    {
     "data": {
      "text/plain": [
       "Index([' 36 months', ' 60 months', '1 year', '10+ years', '2 years', '3 years',\n",
       "       '4 years', '5 years', '6 years', '7 years', '8 years', '9 years',\n",
       "       '< 1 year', 'MORTGAGE', 'Not Verified', 'OTHER_Home_Ownership',\n",
       "       'OTHER_Purposes', 'OWN', 'RENT', 'Source Verified', 'Verified',\n",
       "       'annual_inc_new', 'car', 'credit_card', 'debt_consolidation',\n",
       "       'educational', 'funded_amnt_new', 'home_improvement', 'house',\n",
       "       'installment_new', 'int_rate', 'loan_amnt_new', 'major_purchase',\n",
       "       'medical', 'moving', 'renewable_energy', 'small_business', 'vacation',\n",
       "       'wedding'],\n",
       "      dtype='object')"
      ]
     },
     "execution_count": 113,
     "metadata": {},
     "output_type": "execute_result"
    }
   ],
   "source": [
    "# Import the required libraries for spliting, testing and training the model\n",
    "from sklearn.preprocessing import MinMaxScaler\n",
    "from sklearn.linear_model import LogisticRegression\n",
    "from sklearn.ensemble import RandomForestClassifier\n",
    "from sklearn.pipeline import Pipeline\n",
    "from sklearn.model_selection import train_test_split\n",
    "from sklearn.metrics import classification_report,confusion_matrix,accuracy_score\n",
    "\n",
    "X1 = new[df_cleans.columns.difference(lis + ['loan_status_bin'])]\n",
    "Y1 = new['loan_status_bin']\n",
    "\n",
    "# convert the dataset to csv\n",
    "X11 = X1.iloc[:11339, :]\n",
    "X11.to_csv(\"X1.csv\",index = False)\n",
    "Y1.to_csv(\"Y1.csv\", index = False)\n",
    "\n",
    "# The ML Model\n",
    "X_train,X_test,Y_train,Y_test = train_test_split(X1,Y1,test_size = 0.27)\n",
    "\n",
    "sc = MinMaxScaler()\n",
    "clf1 = RandomForestClassifier( bootstrap= True,\n",
    "                                max_depth= 100,\n",
    "                                max_features = 2,\n",
    "                                min_samples_leaf= 5,\n",
    "                                min_samples_split= 8,\n",
    "                                n_estimators= 100,\n",
    "                                verbose = 1,\n",
    "                             ) \n",
    "\n",
    "clf = LogisticRegression(penalty='l1', C=0.01,verbose = 1)\n",
    "\n",
    "pipe_lr = Pipeline([('scaler', sc), ('clf', clf1)])\n",
    "\n",
    "#Train the model\n",
    "pipe_lr.fit(X_train, Y_train)\n",
    "\n",
    "# Save the model to the local machine\n",
    "filename = 'model.pickle'\n",
    "pickle.dump(pipe_lr, open(filename, 'wb'))\n",
    "X1.columns\n"
   ]
  },
  {
   "cell_type": "code",
   "execution_count": 114,
   "metadata": {},
   "outputs": [
    {
     "name": "stderr",
     "output_type": "stream",
     "text": [
      "[Parallel(n_jobs=1)]: Done 100 out of 100 | elapsed:    0.0s finished\n"
     ]
    },
    {
     "name": "stdout",
     "output_type": "stream",
     "text": [
      "0.6910516002612671\n",
      "             precision    recall  f1-score   support\n",
      "\n",
      "          0       0.68      0.69      0.69      1503\n",
      "          1       0.70      0.69      0.69      1559\n",
      "\n",
      "avg / total       0.69      0.69      0.69      3062\n",
      "\n"
     ]
    },
    {
     "name": "stderr",
     "output_type": "stream",
     "text": [
      "[Parallel(n_jobs=1)]: Done 100 out of 100 | elapsed:    0.1s finished\n"
     ]
    }
   ],
   "source": [
    "# Classification report to see how well the model performs\n",
    "preds = pipe_lr.predict(X_test)\n",
    "pred_train = pipe_lr.predict(X_train) \n",
    "print(accuracy_score(Y_test,preds))# to test for over-fitting\n",
    "print(classification_report(Y_test,preds))\n",
    "#print(pd.DataFrame(confusion_matrix(Y_test,preds),index = ['Good','Bad'],columns = ['Good','Bad']))"
   ]
  },
  {
   "cell_type": "code",
   "execution_count": 75,
   "metadata": {},
   "outputs": [
    {
     "name": "stdout",
     "output_type": "stream",
     "text": [
      "Fitting 3 folds for each of 288 candidates, totalling 864 fits\n"
     ]
    },
    {
     "name": "stderr",
     "output_type": "stream",
     "text": [
      "[Parallel(n_jobs=-1)]: Done  33 tasks      | elapsed:   43.6s\n",
      "[Parallel(n_jobs=-1)]: Done 154 tasks      | elapsed:  2.0min\n",
      "[Parallel(n_jobs=-1)]: Done 357 tasks      | elapsed:  3.9min\n",
      "[Parallel(n_jobs=-1)]: Done 640 tasks      | elapsed:  6.4min\n",
      "[Parallel(n_jobs=-1)]: Done 864 out of 864 | elapsed:  8.4min finished\n"
     ]
    },
    {
     "data": {
      "text/plain": [
       "{'bootstrap': True,\n",
       " 'max_depth': 100,\n",
       " 'max_features': 2,\n",
       " 'min_samples_leaf': 5,\n",
       " 'min_samples_split': 8,\n",
       " 'n_estimators': 100}"
      ]
     },
     "execution_count": 75,
     "metadata": {},
     "output_type": "execute_result"
    }
   ],
   "source": [
    "# Hyper Parameter Optimisation\n",
    "from sklearn.model_selection import GridSearchCV\n",
    "# Create the parameter grid based on the results of random search \n",
    "param_grid = {\n",
    "    'bootstrap': [True],\n",
    "    'max_depth': [80, 90, 100, 110],\n",
    "    'max_features': [2, 3],\n",
    "    'min_samples_leaf': [3, 4, 5],\n",
    "    'min_samples_split': [8, 10, 12],\n",
    "    'n_estimators': [100, 200, 300, 1000]\n",
    "}\n",
    "# Create a based model\n",
    "rf = RandomForestRegressor()\n",
    "# Instantiate the grid search model\n",
    "grid_search = GridSearchCV(estimator = rf, param_grid = param_grid, \n",
    "                          cv = 3, n_jobs = -1, verbose = 2)\n",
    "\n",
    "#grid_search.fit(train_features, train_labels)\n",
    "#grid_search.best_params_\n"
   ]
  },
  {
   "cell_type": "code",
   "execution_count": 115,
   "metadata": {},
   "outputs": [
    {
     "name": "stderr",
     "output_type": "stream",
     "text": [
      "[Parallel(n_jobs=1)]: Done 100 out of 100 | elapsed:    0.0s finished\n"
     ]
    },
    {
     "name": "stdout",
     "output_type": "stream",
     "text": [
      "ROC-AUC-score:  0.751157509654627\n"
     ]
    },
    {
     "data": {
      "image/png": "[encoded data removed]",
      "text/plain": [
       "<Figure size 504x504 with 1 Axes>"
      ]
     },
     "metadata": {},
     "output_type": "display_data"
    }
   ],
   "source": [
    "# Model Evaluation _ a visual approach using the (receiver_operating_curve (ROC))\n",
    "test_probas = pipe_lr.predict_proba(X_test)[:,1]\n",
    "from sklearn.metrics import roc_auc_score\n",
    "from sklearn.metrics import roc_curve\n",
    "ax = plt.figure(figsize = (7,7))\n",
    "fpr, tpr, tresholds = roc_curve(Y_test, test_probas)\n",
    "plt.plot(fpr, tpr)\n",
    "plt.plot([0, 1], [0, 1], color = 'red')\n",
    "plt.title('ROC')\n",
    "plt.xlabel('FPR')\n",
    "plt.ylabel('TPR')\n",
    "\n",
    "print('ROC-AUC-score: ', roc_auc_score(Y_test, test_probas))"
   ]
  },
  {
   "cell_type": "markdown",
   "metadata": {},
   "source": [
    "Three ways to improve the model \n",
    "* Number of Mpesa transactions: Given a weight of 0.2 out of 1, so the higher the number of transactions the more the score improves\n",
    "* Receive vs send. If you receive more money via mpesa than you send , improve the model, a weight of 0.5\n",
    "* Number of creditors, if you have 0 creditors you get 0.3 points else you get negative points per each creditor"
   ]
  },
  {
   "cell_type": "code",
   "execution_count": 158,
   "metadata": {},
   "outputs": [],
   "source": [
    "def credit_score(row):\n",
    "    \"returns a credit score based on the ML model\"\n",
    "    probability = pipe_lr.predict_proba(row)\n",
    "    df = pd.DataFrame(probability)\n",
    "    print(probability[:,0])\n",
    "    \n",
    "    return probability[:,0]\n",
    "\n",
    "\n",
    "def Mpesa_no(x):\n",
    "    \"returns a weight depending on the number of Mpesa transactions x\"\n",
    "    mpesa = [\"The number has to be positive\" if x <0 else 5 if x < 15 else 10 if x <30 else 15 if x < 45 else 20]\n",
    "    try:\n",
    "        no= mpesa[0] / 100\n",
    "    except:\n",
    "        no = \"The number has to be positive\"\n",
    "    return no\n",
    "\n",
    "def receive_send(send,receive):\n",
    "    \"returns a positive weight if receive > send or a negative weight if receive < send. the weight is between -5 & 5\"\n",
    "    if send < 0 or receive < 0:\n",
    "        return \"The number has to be positive\"\n",
    "    elif receive>send:\n",
    "        if send ==0:\n",
    "            net = [.5]\n",
    "        else:\n",
    "            net = [0.15 if receive/send <1.25 else 0.2 if receive/send <1.5 else .3 if receive/send <1.75 else .4 if receive/send <2.5 else .5 ]\n",
    "        return net[0]\n",
    "    elif receive<send:\n",
    "        if receive == 0:\n",
    "            net =[ -.5 ]\n",
    "        else:\n",
    "             net = [-0.1 if receive/send > 0.75 else -0.2 if receive/send > 0.5 else -0.4 if receive/send > 0.3 else -.5 ]\n",
    "        return net[0]\n",
    "    else:# when they are equal\n",
    "        return 0.1\n",
    "    \n",
    "def creditors(number):\n",
    "    \"returns .3 if you have no creditors or a negative number that grows as the number of creditors increase\"\n",
    "    if number < 0:\n",
    "        return \"The number has to be positive\"\n",
    "    else:\n",
    "        creditors  = [.30 if number == 0 else -.05 if number ==1 else -.10 if number == 2 else -.20 if number == 3 else -.30]\n",
    "        return creditors[0]\n",
    "    \n",
    "def scored(mpesa_no,send,receive,cred,initial_score):\n",
    "    \"returns a credit score that is between 1 and 0 \"\n",
    "    score = creditors(cred)\n",
    "    Num = Mpesa_no(no)\n",
    "    R_S = receive_send(send,receive)\n",
    "    total = score + Num + R_S + initial_score\n",
    "    return total/2\n"
   ]
  },
  {
   "cell_type": "code",
   "execution_count": 165,
   "metadata": {},
   "outputs": [
    {
     "name": "stdout",
     "output_type": "stream",
     "text": [
      "[0.60473717]\n",
      "[60.4737173]\n",
      "[80.23685865]\n"
     ]
    },
    {
     "name": "stderr",
     "output_type": "stream",
     "text": [
      "[Parallel(n_jobs=1)]: Done 100 out of 100 | elapsed:    0.0s finished\n"
     ]
    }
   ],
   "source": [
    "#test\n",
    "\n",
    "no = 200\n",
    "send = 100\n",
    "receive = 10\n",
    "cred =  0\n",
    "\n",
    "row = good_loans.iloc[[0],:]\n",
    "row = row[row.columns.difference(['loan_status_bin'])]\n",
    "good_loans.columns\n",
    "\n",
    "initial_score = credit_score(row)\n",
    "\n",
    "H = scored(Mpesa_no,send,receive,cred,initial_score) \n",
    "print(initial_score*100)\n",
    "print(H*100)"
   ]
  },
  {
   "cell_type": "markdown",
   "metadata": {},
   "source": [
    "<h1>Actionable items based on the model</h1>\n",
    "* The model can be used as is on new customers whose data would be uploaded as csv and the output would be a credit score, the compnay would then use a score card to assign loans based on the credit score.\n",
    "* The model can also be used by non datascientists using a dashboard created using ipywidgets or equivalent complete with a graphical user interface (GUI)\n",
    "* The model can be used as the analytical base for a website where users log in and fill in a form, the model would use the data from this form to generate credit score that would be used to give loans. this can be achieved through use of Flask or Django in python or their equivalents in other programing languages. An example of this is vailable on github <a href = \"https://github.com/sophicist/Flask-Apps/tree/master/credit%20scorer\">  here</a>\n",
    "* this model can also be interlinked with an already existing website that would approve loans based on the credit scores "
   ]
  },
  {
   "cell_type": "markdown",
   "metadata": {},
   "source": [
    "# Ways to improve the models\n",
    "* use the full lendeable dataset\n",
    "* use ensemble machine learning models such as voting to improve performance\n",
    "* use deep neural networks and test performance\n",
    "* use Bayes statistics to improve the model and to make it more Kenyan ( add more questions on the flask form)\n",
    "* convert the dollars to Kenyan currency\n",
    "* add the number of variables from the current 11\n",
    "* link the model to the crb ratings and Mpesa data to get more information on the client\n",
    "* Create a baseline model for the same to see how well the model performs\n",
    "* look for a kenyan dataset and test the \n"
   ]
  },
  {
   "cell_type": "code",
   "execution_count": null,
   "metadata": {},
   "outputs": [],
   "source": []
  },
  {
   "cell_type": "code",
   "execution_count": null,
   "metadata": {},
   "outputs": [],
   "source": []
  }
 ],
 "metadata": {
  "kernelspec": {
   "display_name": "Python 3",
   "language": "python",
   "name": "python3"
  },
  "language_info": {
   "codemirror_mode": {
    "name": "ipython",
    "version": 3
   },
   "file_extension": ".py",
   "mimetype": "text/x-python",
   "name": "python",
   "nbconvert_exporter": "python",
   "pygments_lexer": "ipython3",
   "version": "3.6.5"
  }
 },
 "nbformat": 4,
 "nbformat_minor": 2
}
