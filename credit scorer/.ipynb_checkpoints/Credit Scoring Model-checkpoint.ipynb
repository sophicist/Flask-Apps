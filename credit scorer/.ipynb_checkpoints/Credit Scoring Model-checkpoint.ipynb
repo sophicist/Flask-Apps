{
 "cells": [
  {
   "cell_type": "markdown",
   "metadata": {},
   "source": [
    "<img src = \"https://miro.medium.com/max/854/0*bfgOZEZqaXYB2yRo.jpg\" style = \"height:300px;width:100%;\">\n",
    "<h1 style = \"float:center;\">A Credit Scoring Model</h1>\n",
    "<p> The Credit score willbe a probability attached to each new customer on their ability to pay a loan based on data from past loans. Those with low probabilities will either receive no loans or just receive very low loan until their ability to pay is analised via experience</p> \n",
    "<p> The data comes from the popular peer to peer lending website:  <a href = \"https://www.lendingclub.com/info/download-data.action\">Lending Club</p>"
   ]
  },
  {
   "cell_type": "markdown",
   "metadata": {},
   "source": [
    "<h2>Data Exploration and Cleaning</h2>\n",
    "<h3>Cleaning</h3>"
   ]
  },
  {
   "cell_type": "code",
   "execution_count": 1,
   "metadata": {},
   "outputs": [],
   "source": [
    "#Import the Necessary Libraries\n",
    "import os\n",
    "os.listdir('.ipynb_checkpoints')\n",
    "import pandas as pd\n",
    "import os\n",
    "import time\n",
    "\n",
    "import warnings\n",
    "import matplotlib.pyplot as plt\n",
    "warnings.filterwarnings('ignore')\n",
    "\n",
    "#Print all rows and columns. Dont hide any\n",
    "pd.set_option('display.max_rows', None)\n",
    "pd.set_option('display.max_columns', None)\n",
    "\n",
    "import pickle"
   ]
  },
  {
   "cell_type": "code",
   "execution_count": 5,
   "metadata": {},
   "outputs": [
    {
     "name": "stdout",
     "output_type": "stream",
     "text": [
      "Wall time: 0 ns\n"
     ]
    }
   ],
   "source": [
    "# Load the dataset\n",
    "%time\n",
    "loans = pd.read_csv('LoanStats3a.csv')\n"
   ]
  },
  {
   "cell_type": "code",
   "execution_count": 7,
   "metadata": {},
   "outputs": [
    {
     "name": "stdout",
     "output_type": "stream",
     "text": [
      "(42538, 54)\n",
      "(42535, 54)\n",
      "(42535, 54)\n"
     ]
    },
    {
     "data": {
      "text/html": [
       "<div>\n",
       "<style scoped>\n",
       "    .dataframe tbody tr th:only-of-type {\n",
       "        vertical-align: middle;\n",
       "    }\n",
       "\n",
       "    .dataframe tbody tr th {\n",
       "        vertical-align: top;\n",
       "    }\n",
       "\n",
       "    .dataframe thead th {\n",
       "        text-align: right;\n",
       "    }\n",
       "</style>\n",
       "<table border=\"1\" class=\"dataframe\">\n",
       "  <thead>\n",
       "    <tr style=\"text-align: right;\">\n",
       "      <th></th>\n",
       "      <th>loan_amnt</th>\n",
       "      <th>funded_amnt</th>\n",
       "      <th>funded_amnt_inv</th>\n",
       "      <th>term</th>\n",
       "      <th>int_rate</th>\n",
       "      <th>installment</th>\n",
       "      <th>grade</th>\n",
       "      <th>sub_grade</th>\n",
       "      <th>emp_title</th>\n",
       "      <th>emp_length</th>\n",
       "      <th>home_ownership</th>\n",
       "      <th>annual_inc</th>\n",
       "      <th>verification_status</th>\n",
       "      <th>issue_d</th>\n",
       "      <th>loan_status</th>\n",
       "      <th>pymnt_plan</th>\n",
       "      <th>desc</th>\n",
       "      <th>purpose</th>\n",
       "      <th>title</th>\n",
       "      <th>zip_code</th>\n",
       "      <th>addr_state</th>\n",
       "      <th>dti</th>\n",
       "      <th>delinq_2yrs</th>\n",
       "      <th>earliest_cr_line</th>\n",
       "      <th>inq_last_6mths</th>\n",
       "      <th>open_acc</th>\n",
       "      <th>pub_rec</th>\n",
       "      <th>revol_bal</th>\n",
       "      <th>revol_util</th>\n",
       "      <th>total_acc</th>\n",
       "      <th>initial_list_status</th>\n",
       "      <th>out_prncp</th>\n",
       "      <th>out_prncp_inv</th>\n",
       "      <th>total_pymnt</th>\n",
       "      <th>total_pymnt_inv</th>\n",
       "      <th>total_rec_prncp</th>\n",
       "      <th>total_rec_int</th>\n",
       "      <th>total_rec_late_fee</th>\n",
       "      <th>recoveries</th>\n",
       "      <th>collection_recovery_fee</th>\n",
       "      <th>last_pymnt_d</th>\n",
       "      <th>last_pymnt_amnt</th>\n",
       "      <th>last_credit_pull_d</th>\n",
       "      <th>collections_12_mths_ex_med</th>\n",
       "      <th>policy_code</th>\n",
       "      <th>application_type</th>\n",
       "      <th>acc_now_delinq</th>\n",
       "      <th>chargeoff_within_12_mths</th>\n",
       "      <th>delinq_amnt</th>\n",
       "      <th>pub_rec_bankruptcies</th>\n",
       "      <th>tax_liens</th>\n",
       "      <th>hardship_flag</th>\n",
       "      <th>disbursement_method</th>\n",
       "      <th>debt_settlement_flag</th>\n",
       "    </tr>\n",
       "  </thead>\n",
       "  <tbody>\n",
       "    <tr>\n",
       "      <th>0</th>\n",
       "      <td>5000.0</td>\n",
       "      <td>5000.0</td>\n",
       "      <td>4975.0</td>\n",
       "      <td>36 months</td>\n",
       "      <td>10.65%</td>\n",
       "      <td>162.87</td>\n",
       "      <td>B</td>\n",
       "      <td>B2</td>\n",
       "      <td>NaN</td>\n",
       "      <td>10+ years</td>\n",
       "      <td>RENT</td>\n",
       "      <td>24000.0</td>\n",
       "      <td>Verified</td>\n",
       "      <td>Dec-2011</td>\n",
       "      <td>Fully Paid</td>\n",
       "      <td>n</td>\n",
       "      <td>Borrower added on 12/22/11 &gt; I need to upgra...</td>\n",
       "      <td>credit_card</td>\n",
       "      <td>Computer</td>\n",
       "      <td>860xx</td>\n",
       "      <td>AZ</td>\n",
       "      <td>27.65</td>\n",
       "      <td>0.0</td>\n",
       "      <td>Jan-1985</td>\n",
       "      <td>1.0</td>\n",
       "      <td>3.0</td>\n",
       "      <td>0.0</td>\n",
       "      <td>13648.0</td>\n",
       "      <td>83.7%</td>\n",
       "      <td>9.0</td>\n",
       "      <td>f</td>\n",
       "      <td>0.0</td>\n",
       "      <td>0.0</td>\n",
       "      <td>5863.155187</td>\n",
       "      <td>5833.84</td>\n",
       "      <td>5000.00</td>\n",
       "      <td>863.16</td>\n",
       "      <td>0.0</td>\n",
       "      <td>0.0</td>\n",
       "      <td>0.00</td>\n",
       "      <td>Jan-2015</td>\n",
       "      <td>171.62</td>\n",
       "      <td>Oct-2018</td>\n",
       "      <td>0.0</td>\n",
       "      <td>1.0</td>\n",
       "      <td>Individual</td>\n",
       "      <td>0.0</td>\n",
       "      <td>0.0</td>\n",
       "      <td>0.0</td>\n",
       "      <td>0.0</td>\n",
       "      <td>0.0</td>\n",
       "      <td>N</td>\n",
       "      <td>Cash</td>\n",
       "      <td>N</td>\n",
       "    </tr>\n",
       "    <tr>\n",
       "      <th>1</th>\n",
       "      <td>2500.0</td>\n",
       "      <td>2500.0</td>\n",
       "      <td>2500.0</td>\n",
       "      <td>60 months</td>\n",
       "      <td>15.27%</td>\n",
       "      <td>59.83</td>\n",
       "      <td>C</td>\n",
       "      <td>C4</td>\n",
       "      <td>Ryder</td>\n",
       "      <td>&lt; 1 year</td>\n",
       "      <td>RENT</td>\n",
       "      <td>30000.0</td>\n",
       "      <td>Source Verified</td>\n",
       "      <td>Dec-2011</td>\n",
       "      <td>Charged Off</td>\n",
       "      <td>n</td>\n",
       "      <td>Borrower added on 12/22/11 &gt; I plan to use t...</td>\n",
       "      <td>car</td>\n",
       "      <td>bike</td>\n",
       "      <td>309xx</td>\n",
       "      <td>GA</td>\n",
       "      <td>1.00</td>\n",
       "      <td>0.0</td>\n",
       "      <td>Apr-1999</td>\n",
       "      <td>5.0</td>\n",
       "      <td>3.0</td>\n",
       "      <td>0.0</td>\n",
       "      <td>1687.0</td>\n",
       "      <td>9.4%</td>\n",
       "      <td>4.0</td>\n",
       "      <td>f</td>\n",
       "      <td>0.0</td>\n",
       "      <td>0.0</td>\n",
       "      <td>1014.530000</td>\n",
       "      <td>1014.53</td>\n",
       "      <td>456.46</td>\n",
       "      <td>435.17</td>\n",
       "      <td>0.0</td>\n",
       "      <td>122.9</td>\n",
       "      <td>1.11</td>\n",
       "      <td>Apr-2013</td>\n",
       "      <td>119.66</td>\n",
       "      <td>Oct-2016</td>\n",
       "      <td>0.0</td>\n",
       "      <td>1.0</td>\n",
       "      <td>Individual</td>\n",
       "      <td>0.0</td>\n",
       "      <td>0.0</td>\n",
       "      <td>0.0</td>\n",
       "      <td>0.0</td>\n",
       "      <td>0.0</td>\n",
       "      <td>N</td>\n",
       "      <td>Cash</td>\n",
       "      <td>N</td>\n",
       "    </tr>\n",
       "  </tbody>\n",
       "</table>\n",
       "</div>"
      ],
      "text/plain": [
       "   loan_amnt  funded_amnt  funded_amnt_inv        term int_rate  installment  \\\n",
       "0     5000.0       5000.0           4975.0   36 months   10.65%       162.87   \n",
       "1     2500.0       2500.0           2500.0   60 months   15.27%        59.83   \n",
       "\n",
       "  grade sub_grade emp_title emp_length home_ownership  annual_inc  \\\n",
       "0     B        B2       NaN  10+ years           RENT     24000.0   \n",
       "1     C        C4     Ryder   < 1 year           RENT     30000.0   \n",
       "\n",
       "  verification_status   issue_d  loan_status pymnt_plan  \\\n",
       "0            Verified  Dec-2011   Fully Paid          n   \n",
       "1     Source Verified  Dec-2011  Charged Off          n   \n",
       "\n",
       "                                                desc      purpose     title  \\\n",
       "0    Borrower added on 12/22/11 > I need to upgra...  credit_card  Computer   \n",
       "1    Borrower added on 12/22/11 > I plan to use t...          car      bike   \n",
       "\n",
       "  zip_code addr_state    dti  delinq_2yrs earliest_cr_line  inq_last_6mths  \\\n",
       "0    860xx         AZ  27.65          0.0         Jan-1985             1.0   \n",
       "1    309xx         GA   1.00          0.0         Apr-1999             5.0   \n",
       "\n",
       "   open_acc  pub_rec  revol_bal revol_util  total_acc initial_list_status  \\\n",
       "0       3.0      0.0    13648.0      83.7%        9.0                   f   \n",
       "1       3.0      0.0     1687.0       9.4%        4.0                   f   \n",
       "\n",
       "   out_prncp  out_prncp_inv  total_pymnt  total_pymnt_inv  total_rec_prncp  \\\n",
       "0        0.0            0.0  5863.155187          5833.84          5000.00   \n",
       "1        0.0            0.0  1014.530000          1014.53           456.46   \n",
       "\n",
       "   total_rec_int  total_rec_late_fee  recoveries  collection_recovery_fee  \\\n",
       "0         863.16                 0.0         0.0                     0.00   \n",
       "1         435.17                 0.0       122.9                     1.11   \n",
       "\n",
       "  last_pymnt_d  last_pymnt_amnt last_credit_pull_d  \\\n",
       "0     Jan-2015           171.62           Oct-2018   \n",
       "1     Apr-2013           119.66           Oct-2016   \n",
       "\n",
       "   collections_12_mths_ex_med  policy_code application_type  acc_now_delinq  \\\n",
       "0                         0.0          1.0       Individual             0.0   \n",
       "1                         0.0          1.0       Individual             0.0   \n",
       "\n",
       "   chargeoff_within_12_mths  delinq_amnt  pub_rec_bankruptcies  tax_liens  \\\n",
       "0                       0.0          0.0                   0.0        0.0   \n",
       "1                       0.0          0.0                   0.0        0.0   \n",
       "\n",
       "  hardship_flag disbursement_method debt_settlement_flag  \n",
       "0             N                Cash                    N  \n",
       "1             N                Cash                    N  "
      ]
     },
     "execution_count": 7,
     "metadata": {},
     "output_type": "execute_result"
    }
   ],
   "source": [
    "#print(loans.columns)\n",
    "print(loans.shape)\n",
    "#loans.isnull().sum()\n",
    "loans = loans.dropna(axis='columns', how='all')\n",
    "loans = loans.dropna(axis=0, how='all')\n",
    "print(loans.shape)\n",
    "\n",
    "thresh = len(loans) * .6\n",
    "loans.dropna(thresh = thresh, axis = 1, inplace = True)\n",
    "# Checking for missing values in filtered data frame\n",
    "loans.apply(lambda x: sum(x.isnull()),axis=0) \n",
    "print(loans.shape)\n",
    "loans.head(2)"
   ]
  },
  {
   "cell_type": "code",
   "execution_count": 8,
   "metadata": {},
   "outputs": [
    {
     "data": {
      "text/plain": [
       "0    34116\n",
       "1     5670\n",
       "Name: loan_status_bin, dtype: int64"
      ]
     },
     "execution_count": 8,
     "metadata": {},
     "output_type": "execute_result"
    }
   ],
   "source": [
    "#loans.isnull().sum()\n",
    "loans = loans[(loans['loan_status']=='Fully Paid') | (loans['loan_status']=='Charged Off')]\n",
    "loans['loan_status_bin'] = loans['loan_status'].map({'Charged Off': 1, 'Fully Paid': 0}) # 0 good loans 1 bad loans\n",
    "loans.loan_status_bin.value_counts()"
   ]
  },
  {
   "cell_type": "code",
   "execution_count": 9,
   "metadata": {},
   "outputs": [
    {
     "name": "stdout",
     "output_type": "stream",
     "text": [
      "12\n"
     ]
    },
    {
     "data": {
      "text/plain": [
       " 36 months    29096\n",
       " 60 months    10690\n",
       "Name: term, dtype: int64"
      ]
     },
     "execution_count": 9,
     "metadata": {},
     "output_type": "execute_result"
    }
   ],
   "source": [
    "# The variables used for the analysis\n",
    "loans.columns\n",
    "columns  = ['loan_amnt',      # The Amount of Loan Requested\n",
    "            'loan_status_bin',# A Binary loan status with 1 being bad loans and 0 being Good loans\n",
    "            'funded_amnt',    #The amount that was Given\n",
    "            'term',           # 3 or five year loan\n",
    "            'int_rate',       # the interest rate charged\n",
    "            'installment',    # The intallment amount paid\n",
    "            'emp_length',     #How long the person has bein under employment\n",
    "            'home_ownership', #What ownership they have for their home, rental owned or mortgage\n",
    "            'annual_inc',     # annual income\n",
    "            'verification_status',# was the income source verified\n",
    "           'loan_status',     # is the loan paid fully or defaulted\n",
    "            'purpose',        # The purpose for taking the loan\n",
    "           ]\n",
    "print(len(columns))\n",
    "loans.term.value_counts()"
   ]
  },
  {
   "cell_type": "code",
   "execution_count": 11,
   "metadata": {},
   "outputs": [
    {
     "name": "stdout",
     "output_type": "stream",
     "text": [
      "(39786, 12)\n"
     ]
    },
    {
     "data": {
      "text/plain": [
       "loan_amnt                 0\n",
       "loan_status_bin           0\n",
       "funded_amnt               0\n",
       "term                      0\n",
       "int_rate                  0\n",
       "installment               0\n",
       "emp_length             1078\n",
       "home_ownership            0\n",
       "annual_inc                0\n",
       "verification_status       0\n",
       "loan_status               0\n",
       "purpose                   0\n",
       "dtype: int64"
      ]
     },
     "execution_count": 11,
     "metadata": {},
     "output_type": "execute_result"
    }
   ],
   "source": [
    "# Check for Null values\n",
    "df = loans[columns]\n",
    "print(df.shape)\n",
    "df.isnull().sum()\n",
    "#df['emp_length'].value_counts()"
   ]
  },
  {
   "cell_type": "code",
   "execution_count": 12,
   "metadata": {},
   "outputs": [
    {
     "name": "stdout",
     "output_type": "stream",
     "text": [
      "<class 'pandas.core.frame.DataFrame'>\n",
      "Int64Index: 39786 entries, 0 to 39785\n",
      "Data columns (total 12 columns):\n",
      "loan_amnt              39786 non-null float64\n",
      "loan_status_bin        39786 non-null int64\n",
      "funded_amnt            39786 non-null float64\n",
      "term                   39786 non-null object\n",
      "int_rate               39786 non-null float64\n",
      "installment            39786 non-null float64\n",
      "emp_length             38708 non-null object\n",
      "home_ownership         39786 non-null object\n",
      "annual_inc             39786 non-null float64\n",
      "verification_status    39786 non-null object\n",
      "loan_status            39786 non-null object\n",
      "purpose                39786 non-null object\n",
      "dtypes: float64(5), int64(1), object(6)\n",
      "memory usage: 3.9+ MB\n"
     ]
    }
   ],
   "source": [
    "#data imputation\n",
    "#df['emp_length'] = df['emp_length'].fillna('10+ years')\n",
    "interest =  [float(i[:6]) for i in df.int_rate]\n",
    "df.int_rate = interest\n",
    "df.info()"
   ]
  },
  {
   "cell_type": "code",
   "execution_count": 13,
   "metadata": {},
   "outputs": [
    {
     "name": "stdout",
     "output_type": "stream",
     "text": [
      "(39786, 2)\n",
      "(39786, 13)\n",
      "(39786, 17)\n",
      "(39786, 20)\n",
      "(39786, 34)\n",
      "<class 'pandas.core.frame.DataFrame'>\n",
      "Int64Index: 39786 entries, 0 to 39785\n",
      "Data columns (total 39 columns):\n",
      " 36 months              39786 non-null uint8\n",
      " 60 months              39786 non-null uint8\n",
      "1 year                  39786 non-null uint8\n",
      "10+ years               39786 non-null uint8\n",
      "2 years                 39786 non-null uint8\n",
      "3 years                 39786 non-null uint8\n",
      "4 years                 39786 non-null uint8\n",
      "5 years                 39786 non-null uint8\n",
      "6 years                 39786 non-null uint8\n",
      "7 years                 39786 non-null uint8\n",
      "8 years                 39786 non-null uint8\n",
      "9 years                 39786 non-null uint8\n",
      "< 1 year                39786 non-null uint8\n",
      "MORTGAGE                39786 non-null uint8\n",
      "Not Verified            39786 non-null uint8\n",
      "OTHER_Home_Ownership    39786 non-null uint8\n",
      "OTHER_Purposes          39786 non-null uint8\n",
      "OWN                     39786 non-null uint8\n",
      "RENT                    39786 non-null uint8\n",
      "Source Verified         39786 non-null uint8\n",
      "Verified                39786 non-null uint8\n",
      "annual_inc              39786 non-null float64\n",
      "car                     39786 non-null uint8\n",
      "credit_card             39786 non-null uint8\n",
      "debt_consolidation      39786 non-null uint8\n",
      "educational             39786 non-null uint8\n",
      "funded_amnt             39786 non-null float64\n",
      "home_improvement        39786 non-null uint8\n",
      "house                   39786 non-null uint8\n",
      "installment             39786 non-null float64\n",
      "int_rate                39786 non-null float64\n",
      "loan_amnt               39786 non-null float64\n",
      "major_purchase          39786 non-null uint8\n",
      "medical                 39786 non-null uint8\n",
      "moving                  39786 non-null uint8\n",
      "renewable_energy        39786 non-null uint8\n",
      "small_business          39786 non-null uint8\n",
      "vacation                39786 non-null uint8\n",
      "wedding                 39786 non-null uint8\n",
      "dtypes: float64(5), uint8(34)\n",
      "memory usage: 3.1 MB\n"
     ]
    },
    {
     "data": {
      "text/plain": [
       "Index(['loan_amnt', 'loan_status_bin', 'funded_amnt', 'term', 'int_rate',\n",
       "       'installment', 'emp_length', 'home_ownership', 'annual_inc',\n",
       "       'verification_status', 'loan_status', 'purpose', ' 36 months',\n",
       "       ' 60 months', '1 year', '10+ years', '2 years', '3 years', '4 years',\n",
       "       '5 years', '6 years', '7 years', '8 years', '9 years', '< 1 year',\n",
       "       'MORTGAGE', 'OTHER_Home_Ownership', 'OWN', 'RENT', 'Not Verified',\n",
       "       'Source Verified', 'Verified', 'OTHER_Purposes', 'car', 'credit_card',\n",
       "       'debt_consolidation', 'educational', 'home_improvement', 'house',\n",
       "       'major_purchase', 'medical', 'moving', 'renewable_energy',\n",
       "       'small_business', 'vacation', 'wedding'],\n",
       "      dtype='object')"
      ]
     },
     "execution_count": 13,
     "metadata": {},
     "output_type": "execute_result"
    }
   ],
   "source": [
    "# create Dummies for all categorical variables\n",
    "lis = ['term','emp_length','home_ownership','verification_status','purpose']\n",
    "df[lis[2]] = ['OTHER_Home_Ownership' if (i == 'OTHER' or i == 'NONE') else i for i in df[lis[2]]] # rename 'other'\n",
    "df[lis[4]] = ['OTHER_Purposes' if (i == 'other' ) else i for i in df[lis[4]]]# rename 'other'\n",
    "df['emp_length'] = df['emp_length'].fillna(df['emp_length'].mode()[0])\n",
    "\n",
    "df_clean = pd.DataFrame(index = df.index)\n",
    "for i in lis:\n",
    "    H = df[i]\n",
    "    \n",
    "    H_dum = pd.get_dummies(H)\n",
    "    \n",
    "    B = pd.concat((df_clean,H_dum),1)\n",
    "    df_clean = B\n",
    "    \n",
    "    print(B.shape)\n",
    "df_cleans = pd.concat((df,B),1)\n",
    "df_cleans.isnull().sum()\n",
    "df_cleans[df_cleans.columns.difference(lis + ['loan_status_bin','loan_status'])].info()\n",
    "df_cleans.columns"
   ]
  },
  {
   "cell_type": "markdown",
   "metadata": {},
   "source": [
    "# Data Exploration and Visualisation"
   ]
  },
  {
   "cell_type": "code",
   "execution_count": 15,
   "metadata": {},
   "outputs": [
    {
     "data": {
      "text/plain": [
       "array([[<matplotlib.axes._subplots.AxesSubplot object at 0x00000270AEB17358>,\n",
       "        <matplotlib.axes._subplots.AxesSubplot object at 0x00000270AEEAB5C0>],\n",
       "       [<matplotlib.axes._subplots.AxesSubplot object at 0x00000270AF355C50>,\n",
       "        <matplotlib.axes._subplots.AxesSubplot object at 0x00000270AF386320>],\n",
       "       [<matplotlib.axes._subplots.AxesSubplot object at 0x00000270AF3AA9B0>,\n",
       "        <matplotlib.axes._subplots.AxesSubplot object at 0x00000270AF3AA9E8>]],\n",
       "      dtype=object)"
      ]
     },
     "execution_count": 15,
     "metadata": {},
     "output_type": "execute_result"
    },
    {
     "data": {
      "image/png": "[encoded data removed]",
      "text/plain": [
       "<Figure size 1440x1440 with 6 Axes>"
      ]
     },
     "metadata": {},
     "output_type": "display_data"
    }
   ],
   "source": [
    "df.hist(figsize=(20,20),color = \"green\")"
   ]
  },
  {
   "cell_type": "code",
   "execution_count": 16,
   "metadata": {},
   "outputs": [
    {
     "data": {
      "text/plain": [
       "<matplotlib.axes._subplots.AxesSubplot at 0x270af8dbac8>"
      ]
     },
     "execution_count": 16,
     "metadata": {},
     "output_type": "execute_result"
    },
    {
     "data": {
      "image/png": "[encoded data removed]",
      "text/plain": [
       "<Figure size 432x288 with 1 Axes>"
      ]
     },
     "metadata": {},
     "output_type": "display_data"
    }
   ],
   "source": [
    "\n",
    "def emp_to_num(term):\n",
    "    if pd.isna(term):\n",
    "        return None\n",
    "    elif term[2]=='+':\n",
    "        return 10\n",
    "    elif term[0]=='<':\n",
    "        return 0\n",
    "    else:\n",
    "        return int(term[0])\n",
    "\n",
    "df['emp_length_num'] = df['emp_length'].apply(emp_to_num)\n",
    "plt.title('Employment in Years')\n",
    "(df['emp_length_num'].value_counts().sort_index()/len(df)).plot.bar()\n"
   ]
  },
  {
   "cell_type": "code",
   "execution_count": 17,
   "metadata": {},
   "outputs": [
    {
     "data": {
      "text/plain": [
       "\"Intrestingly there is no obvious connection between employment length and default rate. For example employment lengths of 8 and 9 years have almost the same default rate as employment lengths of up to 1 year. But what we can see is that an employment length of 0 or 1 has a high default rate and an emloyment length of more than 10 years has a really low default rate. So we are going to transform the feature into two features called 'long_emp' and 'short_emp'.\""
      ]
     },
     "execution_count": 17,
     "metadata": {},
     "output_type": "execute_result"
    },
    {
     "data": {
      "image/png": "[encoded data removed]",
      "text/plain": [
       "<Figure size 432x288 with 1 Axes>"
      ]
     },
     "metadata": {},
     "output_type": "display_data"
    }
   ],
   "source": [
    "# is there a connection between the employment and the default rate\n",
    "df.groupby('emp_length_num')['loan_status_bin'].mean().plot.bar()\n",
    "'''Intrestingly there is no obvious connection between employment length and default rate. For example employment lengths of 8 and 9 years have almost the same default rate as employment lengths of up to 1 year. But what we can see is that an employment length of 0 or 1 has a high default rate and an emloyment length of more than 10 years has a really low default rate. So we are going to transform the feature into two features called 'long_emp' and 'short_emp'.'''"
   ]
  },
  {
   "cell_type": "code",
   "execution_count": 18,
   "metadata": {},
   "outputs": [
    {
     "data": {
      "text/plain": [
       "(array([ 0,  1,  2,  3,  4,  5,  6,  7,  8,  9, 10, 11, 12, 13]),\n",
       " <a list of 14 Text xticklabel objects>)"
      ]
     },
     "execution_count": 18,
     "metadata": {},
     "output_type": "execute_result"
    },
    {
     "data": {
      "image/png": "[encoded data removed]",
      "text/plain": [
       "<Figure size 432x288 with 1 Axes>"
      ]
     },
     "metadata": {},
     "output_type": "display_data"
    }
   ],
   "source": [
    "# distribution of interest rates\n",
    "#(df['int_rate'].dropna()/len(df)).plot.hist(bins=10)\n",
    "# Purpose for the loans\n",
    "\n",
    "(df['purpose'].value_counts()/len(df)).plot.bar()\n",
    "plt.xticks(rotation= 70)"
   ]
  },
  {
   "cell_type": "code",
   "execution_count": 19,
   "metadata": {},
   "outputs": [
    {
     "data": {
      "text/plain": [
       "<matplotlib.axes._subplots.AxesSubplot at 0x270b1f31e48>"
      ]
     },
     "execution_count": 19,
     "metadata": {},
     "output_type": "execute_result"
    },
    {
     "data": {
      "image/png": "[encoded data removed]",
      "text/plain": [
       "<Figure size 432x288 with 1 Axes>"
      ]
     },
     "metadata": {},
     "output_type": "display_data"
    }
   ],
   "source": [
    "# The term of loans vis a vis the default rate\n",
    "(df['term'].value_counts()/len(df)).plot.bar(title='value counts') # more short term loans than long term loans\n",
    "df.groupby('term')['loan_status_bin'].mean().plot.bar(title='default rate') # higher default rate in longer loans"
   ]
  },
  {
   "cell_type": "code",
   "execution_count": 20,
   "metadata": {},
   "outputs": [
    {
     "data": {
      "text/plain": [
       "<matplotlib.axes._subplots.AxesSubplot at 0x270b1f9d940>"
      ]
     },
     "execution_count": 20,
     "metadata": {},
     "output_type": "execute_result"
    },
    {
     "data": {
      "image/png": "[encoded data removed]",
      "text/plain": [
       "<Figure size 432x288 with 1 Axes>"
      ]
     },
     "metadata": {},
     "output_type": "display_data"
    }
   ],
   "source": [
    "#Those that rent their houses have a high default rate\n",
    "df[(df['home_ownership']=='MORTGAGE') | (df['home_ownership']=='OWN')| (df['home_ownership']=='RENT')].groupby('home_ownership')['loan_status_bin'].mean().plot.bar(title='default rate')"
   ]
  },
  {
   "cell_type": "markdown",
   "metadata": {},
   "source": [
    "# Train the Machine Learning Model\n",
    "### Create an X and Y  - input output dataset"
   ]
  },
  {
   "cell_type": "code",
   "execution_count": 22,
   "metadata": {},
   "outputs": [
    {
     "name": "stdout",
     "output_type": "stream",
     "text": [
      "(34116, 46) (5670, 46) (11340, 46)\n"
     ]
    }
   ],
   "source": [
    "# Balancing the data ti improve overall performance\n",
    "filter1 = df_cleans.loan_status_bin == 0\n",
    "filter2 = df_cleans.loan_status_bin == 1\n",
    "good_loans = df_cleans[filter1]\n",
    "bad_loans = df_cleans[filter2]\n",
    "slices = good_loans.iloc[:5670,:]\n",
    "new = pd.concat((bad_loans,slices),0)\n",
    "print(good_loans.shape,bad_loans.shape,new.shape)"
   ]
  },
  {
   "cell_type": "code",
   "execution_count": 24,
   "metadata": {},
   "outputs": [
    {
     "name": "stdout",
     "output_type": "stream",
     "text": [
      "(39786, 39) (39786,)\n"
     ]
    },
    {
     "name": "stderr",
     "output_type": "stream",
     "text": [
      "[Parallel(n_jobs=1)]: Done 100 out of 100 | elapsed:    1.1s finished\n"
     ]
    },
    {
     "data": {
      "text/plain": [
       "Index([' 36 months', ' 60 months', '1 year', '10+ years', '2 years', '3 years',\n",
       "       '4 years', '5 years', '6 years', '7 years', '8 years', '9 years',\n",
       "       '< 1 year', 'MORTGAGE', 'Not Verified', 'OTHER_Home_Ownership',\n",
       "       'OTHER_Purposes', 'OWN', 'RENT', 'Source Verified', 'Verified',\n",
       "       'annual_inc', 'car', 'credit_card', 'debt_consolidation', 'educational',\n",
       "       'funded_amnt', 'home_improvement', 'house', 'installment', 'int_rate',\n",
       "       'loan_amnt', 'major_purchase', 'medical', 'moving', 'renewable_energy',\n",
       "       'small_business', 'vacation', 'wedding'],\n",
       "      dtype='object')"
      ]
     },
     "execution_count": 24,
     "metadata": {},
     "output_type": "execute_result"
    }
   ],
   "source": [
    "# Import the required libraries for spliting, testing and training the model\n",
    "from sklearn.preprocessing import MinMaxScaler\n",
    "from sklearn.linear_model import LogisticRegression\n",
    "from sklearn.ensemble import RandomForestClassifier\n",
    "from sklearn.pipeline import Pipeline\n",
    "from sklearn.model_selection import train_test_split\n",
    "from sklearn.metrics import classification_report,confusion_matrix\n",
    "\n",
    "X = df_cleans[df_cleans.columns.difference(lis + ['loan_status_bin','loan_status'])]\n",
    "Y = df_cleans['loan_status_bin']\n",
    "\n",
    "X1 = new[df_cleans.columns.difference(lis + ['loan_status_bin','loan_status'])]\n",
    "Y1 = new['loan_status_bin']\n",
    "X11 = X1.iloc[:11339, :]\n",
    "X11.to_csv(\"X1.csv\",index = False)\n",
    "Y1.to_csv(\"Y1.csv\", index = False)\n",
    "print(X.shape,Y.shape)\n",
    "\n",
    "X_train,X_test,Y_train,Y_test = train_test_split(X1,Y1,test_size = 0.2)\n",
    "sc = MinMaxScaler()\n",
    "clf1 = RandomForestClassifier(n_estimators = 100 ,verbose=1,random_state=324) \n",
    "clf = LogisticRegression(penalty='l1', C=0.01,verbose = 1)\n",
    "\n",
    "pipe_lr = Pipeline([('scaler', sc), ('clf1', clf1)])\n",
    "\n",
    "#Train the model\n",
    "pipe_lr.fit(X_train, Y_train)\n",
    "# Save the model to the local machine\n",
    "filename = 'model.pickle'\n",
    "pickle.dump(pipe_lr, open(filename, 'wb'))\n",
    "X1.columns\n"
   ]
  },
  {
   "cell_type": "code",
   "execution_count": 25,
   "metadata": {},
   "outputs": [
    {
     "name": "stdout",
     "output_type": "stream",
     "text": [
      "             precision    recall  f1-score   support\n",
      "\n",
      "          0       0.69      0.72      0.71      1109\n",
      "          1       0.72      0.69      0.71      1159\n",
      "\n",
      "avg / total       0.71      0.71      0.71      2268\n",
      "\n",
      "[[799 310]\n",
      " [354 805]]\n"
     ]
    },
    {
     "name": "stderr",
     "output_type": "stream",
     "text": [
      "[Parallel(n_jobs=1)]: Done 100 out of 100 | elapsed:    0.0s finished\n"
     ]
    }
   ],
   "source": [
    "# Classification report to see how well the model performs\n",
    "preds = pipe_lr.predict(X_test)\n",
    "\n",
    "print(classification_report(Y_test,preds))\n",
    "print(confusion_matrix(Y_test,preds))"
   ]
  },
  {
   "cell_type": "code",
   "execution_count": 26,
   "metadata": {},
   "outputs": [
    {
     "name": "stdout",
     "output_type": "stream",
     "text": [
      "ROC-AUC-score:  0.7814150596227741\n"
     ]
    },
    {
     "name": "stderr",
     "output_type": "stream",
     "text": [
      "[Parallel(n_jobs=1)]: Done 100 out of 100 | elapsed:    0.0s finished\n"
     ]
    },
    {
     "data": {
      "image/png": "[encoded data removed]",
      "text/plain": [
       "<Figure size 504x504 with 1 Axes>"
      ]
     },
     "metadata": {},
     "output_type": "display_data"
    }
   ],
   "source": [
    "# Model Evaluation _ a visual approach using the (receiver_operating_curve (ROC))\n",
    "test_probas = pipe_lr.predict_proba(X_test)[:,1]\n",
    "from sklearn.metrics import roc_auc_score\n",
    "from sklearn.metrics import roc_curve\n",
    "ax = plt.figure(figsize = (7,7))\n",
    "fpr, tpr, tresholds = roc_curve(Y_test, test_probas)\n",
    "plt.plot(fpr, tpr)\n",
    "plt.plot([0, 1], [0, 1], color = 'red')\n",
    "plt.title('ROC')\n",
    "plt.xlabel('FPR')\n",
    "plt.ylabel('TPR')\n",
    "\n",
    "print('ROC-AUC-score: ', roc_auc_score(Y_test, test_probas))"
   ]
  },
  {
   "cell_type": "code",
   "execution_count": 27,
   "metadata": {},
   "outputs": [
    {
     "name": "stdout",
     "output_type": "stream",
     "text": [
      "[0.86 0.7  0.92 0.73]\n"
     ]
    },
    {
     "name": "stderr",
     "output_type": "stream",
     "text": [
      "[Parallel(n_jobs=1)]: Done 100 out of 100 | elapsed:    0.0s finished\n"
     ]
    },
    {
     "data": {
      "text/plain": [
       "array([8.6, 7. , 9.2, 7.3])"
      ]
     },
     "execution_count": 27,
     "metadata": {},
     "output_type": "execute_result"
    }
   ],
   "source": [
    "# Test using Random Data\n",
    "filter1 = df_cleans.loan_status_bin ==0\n",
    "supers = df_cleans[filter1]\n",
    "row = supers.iloc[0:4,:]\n",
    "row = row[row.columns.difference(lis + ['loan_status_bin','loan_status'])]\n",
    "def credit_score(row):\n",
    "    probability = pipe_lr.predict_proba(row)\n",
    "    df = pd.DataFrame(probability)\n",
    "    print(probability[:,0])\n",
    "    thresh = 10\n",
    "    return probability[:,0]*thresh\n",
    "\n",
    "\n",
    "\n",
    "credit_score(row)\n",
    "\n",
    "\n",
    "\n",
    "\n",
    "    "
   ]
  },
  {
   "cell_type": "markdown",
   "metadata": {},
   "source": [
    "<h1>Actionable items based on the model</h1>\n",
    "* The model can be used as is on new customers whose data would be uploaded as csv and the output would be a credit score, the compnay would then use a score card to assign loans based on the credit score.\n",
    "* The model can also be used by non datascientists using a dashboard created using ipywidgets or equivalent complete with a graphical user interface (GUI)\n",
    "* The model can be used as the analytical base for a website where users log in and fill in a form, the model would use the data from this form to generate credit score that would be used to give loans. this can be achieved through use of Flask or Django in python or their equivalents in other programing languages. An example of this is vailable on github <a href = \"https://github.com/sophicist/Flask-Apps/tree/master/credit%20scorer\">  here</a>\n",
    "* this model can also be interlinked with an already existing website that would approve loans based on the credit scores "
   ]
  },
  {
   "cell_type": "code",
   "execution_count": null,
   "metadata": {},
   "outputs": [],
   "source": []
  },
  {
   "cell_type": "code",
   "execution_count": null,
   "metadata": {},
   "outputs": [],
   "source": []
  },
  {
   "cell_type": "code",
   "execution_count": null,
   "metadata": {},
   "outputs": [],
   "source": []
  },
  {
   "cell_type": "code",
   "execution_count": null,
   "metadata": {},
   "outputs": [],
   "source": []
  },
  {
   "cell_type": "code",
   "execution_count": null,
   "metadata": {},
   "outputs": [],
   "source": []
  }
 ],
 "metadata": {
  "kernelspec": {
   "display_name": "Python 3",
   "language": "python",
   "name": "python3"
  },
  "language_info": {
   "codemirror_mode": {
    "name": "ipython",
    "version": 3
   },
   "file_extension": ".py",
   "mimetype": "text/x-python",
   "name": "python",
   "nbconvert_exporter": "python",
   "pygments_lexer": "ipython3",
   "version": "3.6.5"
  }
 },
 "nbformat": 4,
 "nbformat_minor": 2
}
